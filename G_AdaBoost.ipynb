{
 "cells": [
  {
   "cell_type": "markdown",
   "metadata": {},
   "source": [
    "# AdaBoost (Adaptive Boosting)\n",
    "Similar to human learning, the algorithm learns from its past mistakes by focusing more on difficult problems it did not get right in prior learning."
   ]
  },
  {
   "cell_type": "markdown",
   "metadata": {},
   "source": [
    "## Getting data ready"
   ]
  },
  {
   "cell_type": "code",
   "execution_count": null,
   "metadata": {},
   "outputs": [],
   "source": [
    "%matplotlib inline\n",
    "import matplotlib.pyplot as plt\n",
    "import numpy as np\n",
    "import pandas as pd\n",
    "import seaborn as sns\n",
    "sns.set()"
   ]
  },
  {
   "cell_type": "code",
   "execution_count": null,
   "metadata": {},
   "outputs": [],
   "source": [
    "# The classifiers\n",
    "from sklearn.ensemble import RandomForestClassifier, AdaBoostClassifier\n",
    "from sklearn import svm # for SVM classifier\n",
    "\n",
    "# Metrics and Validation\n",
    "from sklearn.model_selection import train_test_split\n",
    "from sklearn.model_selection import ShuffleSplit, cross_val_score\n",
    "from sklearn.model_selection import GridSearchCV\n",
    "\n",
    "from sklearn.metrics import accuracy_score, confusion_matrix, classification_report\n",
    "\n",
    "# Custom Functions\n",
    "from util.author import results2csv\n",
    "from util.fe import transform"
   ]
  },
  {
   "cell_type": "code",
   "execution_count": null,
   "metadata": {},
   "outputs": [],
   "source": [
    "# Load Precessed Data\n",
    "train = pd.read_csv('data/train_processed_1.csv', index_col='PassengerId')\n",
    "test = pd.read_csv('data/test_processed_1.csv', index_col='PassengerId')\n",
    "\n",
    "# Feature Engineering\n",
    "train = pd.get_dummies(data=train, drop_first=True)\n",
    "test = pd.get_dummies(data=test, drop_first=True)\n",
    "\n",
    "# Split Datasets\n",
    "train_y = train.pop('Survived')\n",
    "train_x = train\n",
    "test_x = test # Nothing to split! Test-set has no target columns.\n",
    "\n",
    "# select_colns = ['Pclass', 'RoundedFare', 'Age', 'SibSp', 'Parch', 'Sex_male', 'Embarked_Q', 'Embarked_S']\n",
    "select_colns = ['Pclass', 'Age', 'GroupCount', 'Sex_male', 'Embarked_Q', 'Embarked_S']\n",
    "train_x = transform(train_x, select_colns)\n",
    "test_x = transform(test_x, select_colns)"
   ]
  },
  {
   "cell_type": "markdown",
   "metadata": {},
   "source": [
    "## AdaBoost with DecisionTree classifier (default)"
   ]
  },
  {
   "cell_type": "code",
   "execution_count": null,
   "metadata": {},
   "outputs": [],
   "source": [
    "abclf = AdaBoostClassifier(random_state=42) # default base estimator = DecisionTreeClassifier\n",
    "abclf.fit(train_x, train_y)\n",
    "\n",
    "# Measuring Accuracy with K-fold Cross-Validation\n",
    "cv = ShuffleSplit(n_splits=3, test_size=0.3, random_state=42)\n",
    "cv_scores = cross_val_score(abclf, train_x, train_y, cv=cv, scoring='accuracy')\n",
    "print('CV Scores :', cv_scores)\n",
    "# CV Scores : [0.80597015 0.79850746 0.81716418]\n",
    "\n",
    "# Make Predictions    \n",
    "test_y_pred = abclf.predict(test_x)\n",
    "\n",
    "# Persist Data to CSV file for submission\n",
    "fname = \"data/predictions/adaboost.csv\"\n",
    "results2csv(test_x.index, test_y_pred, fname)\n",
    "\n",
    "confusion_matrix(train_y, abclf.predict(train_x))    "
   ]
  },
  {
   "cell_type": "markdown",
   "metadata": {},
   "source": [
    "## AdaBoost and GridSearchCV"
   ]
  },
  {
   "cell_type": "code",
   "execution_count": null,
   "metadata": {},
   "outputs": [],
   "source": [
    "abclf = AdaBoostClassifier(random_state=42) \n",
    "\n",
    "params={\n",
    "    'n_estimators': [10,15,20,25,50,100],\n",
    "    'learning_rate': [0.25,0.5,0.6,0.75,1.0]\n",
    "}\n",
    "gscv = GridSearchCV(estimator=abclf, n_jobs=-1, cv=3, verbose=1, scoring='accuracy', param_grid=params)\n",
    "gscv.fit(train_x, train_y)\n",
    "\n",
    "# Print Best Score and Params\n",
    "print('Best ', gscv.best_score_)\n",
    "best_params = gscv.best_estimator_.get_params()\n",
    "for k in sorted(params.keys()):\n",
    "    print('\\t{0} \\t {1}'.format(k, best_params[k]))\n",
    "'''\n",
    "Best  0.8148148148148148\n",
    "\tlearning_rate \t 0.6\n",
    "\tn_estimators \t 15\n",
    "'''\n",
    "# Measuring Accuracy with K-fold Cross-Validation\n",
    "cv = ShuffleSplit(n_splits=3, test_size=0.3, random_state=42)\n",
    "cv_scores = cross_val_score(gscv, train_x, train_y, cv=cv, scoring='accuracy')\n",
    "print('CV Scores :', cv_scores)\n",
    "# CV Scores : [0.82089552 0.80970149 0.83208955]\n",
    "\n",
    "# Make Predictions    \n",
    "test_y_pred = gscv.predict(test_x)\n",
    "\n",
    "# Persist Data to CSV file for submission\n",
    "fname = \"data/predictions/adaboost_gscv.csv\"\n",
    "results2csv(test_x.index, test_y_pred, fname)\n",
    "\n",
    "confusion_matrix(train_y, gscv.predict(train_x))    "
   ]
  },
  {
   "cell_type": "markdown",
   "metadata": {},
   "source": [
    "## AdaBoost with RandomForest classifier"
   ]
  },
  {
   "cell_type": "code",
   "execution_count": null,
   "metadata": {},
   "outputs": [],
   "source": [
    "# Params borrowed from RandomForest classifier's best params in earlier notebook\n",
    "rfclf = RandomForestClassifier(random_state=42, max_depth=6, min_samples_leaf=3, min_samples_split=2, n_estimators=20)\n",
    "\n",
    "abclf = AdaBoostClassifier(base_estimator=rfclf, random_state=42)\n",
    "abclf.fit(train_x, train_y)\n",
    "\n",
    "# Measuring Accuracy with K-fold Cross-Validation\n",
    "cv = ShuffleSplit(n_splits=3, test_size=0.3, random_state=42)\n",
    "cv_scores = cross_val_score(abclf, train_x, train_y, cv=cv, scoring='accuracy')\n",
    "print('CV Scores :', cv_scores)\n",
    "# CV Scores : [0.80223881 0.82089552 0.80597015]\n",
    "\n",
    "# Make Predictions    \n",
    "test_y_pred = abclf.predict(test_x)\n",
    "\n",
    "# Persist Data to CSV file for submission\n",
    "fname = \"data/predictions/adaboost_randomforest.csv\"\n",
    "results2csv(test_x.index, test_y_pred, fname)\n",
    "\n",
    "confusion_matrix(train_y, abclf.predict(train_x))    "
   ]
  },
  {
   "cell_type": "markdown",
   "metadata": {},
   "source": [
    "## AdaBoost with SVM classifier\n",
    "* NOTE: This predicts so terribly. See confusion matrix and it has predicted  everything positive. Meh!"
   ]
  },
  {
   "cell_type": "code",
   "execution_count": null,
   "metadata": {},
   "outputs": [],
   "source": [
    "# Params borrowed from earlier notebook (see Task 10 in DataModelling)\n",
    "svmclf = svm.SVC(kernel='rbf', gamma=.25, C=.5, random_state=42)\n",
    "\n",
    "abclf = AdaBoostClassifier(base_estimator=svmclf,\n",
    "                           algorithm='SAMME', # Reqd. to work with SVM classifier\n",
    "                           random_state=42)\n",
    "abclf.fit(train_x, train_y)\n",
    "\n",
    "# Measuring Accuracy with K-fold Cross-Validation\n",
    "cv = ShuffleSplit(n_splits=3, test_size=0.3, random_state=42)\n",
    "cv_scores = cross_val_score(abclf, train_x, train_y, cv=cv, scoring='accuracy')\n",
    "print('CV Scores :', cv_scores)\n",
    "# CV Scores : [0.5858209  0.61567164 0.65671642]\n",
    "\n",
    "# Make Predictions    \n",
    "test_y_pred = abclf.predict(test_x)\n",
    "\n",
    "# Persist Data to CSV file for submission\n",
    "fname = \"data/predictions/adaboost_randomforest.csv\"\n",
    "results2csv(test_x.index, test_y_pred, fname)\n",
    "\n",
    "confusion_matrix(train_y, abclf.predict(train_x))\n",
    "'''\n",
    "array([[549,   0],\n",
    "       [342,   0]], dtype=int64)\n",
    "'''"
   ]
  },
  {
   "cell_type": "code",
   "execution_count": null,
   "metadata": {},
   "outputs": [],
   "source": []
  }
 ],
 "metadata": {
  "kernelspec": {
   "display_name": "Python 3",
   "language": "python",
   "name": "python3"
  },
  "language_info": {
   "codemirror_mode": {
    "name": "ipython",
    "version": 3
   },
   "file_extension": ".py",
   "mimetype": "text/x-python",
   "name": "python",
   "nbconvert_exporter": "python",
   "pygments_lexer": "ipython3",
   "version": "3.6.6"
  }
 },
 "nbformat": 4,
 "nbformat_minor": 2
}
