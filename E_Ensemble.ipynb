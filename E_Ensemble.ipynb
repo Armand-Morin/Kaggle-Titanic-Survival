{
 "cells": [
  {
   "cell_type": "markdown",
   "metadata": {},
   "source": [
    "## Getting data ready"
   ]
  },
  {
   "cell_type": "code",
   "execution_count": null,
   "metadata": {},
   "outputs": [],
   "source": [
    "%matplotlib inline\n",
    "import matplotlib.pyplot as plt\n",
    "import numpy as np\n",
    "import pandas as pd\n",
    "import seaborn as sns\n",
    "sns.set()"
   ]
  },
  {
   "cell_type": "code",
   "execution_count": null,
   "metadata": {},
   "outputs": [],
   "source": [
    "# The classifiers\n",
    "from sklearn.ensemble import BaggingClassifier\n",
    "\n",
    "# Metrics and Validation\n",
    "from sklearn.model_selection import cross_val_score\n",
    "from sklearn.metrics import accuracy_score, confusion_matrix, classification_report"
   ]
  },
  {
   "cell_type": "code",
   "execution_count": null,
   "metadata": {},
   "outputs": [],
   "source": [
    "# Custom imports\n",
    "from util.pickler import pickle_out"
   ]
  },
  {
   "cell_type": "code",
   "execution_count": null,
   "metadata": {},
   "outputs": [],
   "source": []
  },
  {
   "cell_type": "code",
   "execution_count": null,
   "metadata": {},
   "outputs": [],
   "source": [
    "# Load Precessed Data\n",
    "train = pd.read_csv('data/train_processed_1.csv', index_col='PassengerId')\n",
    "test = pd.read_csv('data/test_processed_1.csv', index_col='PassengerId')\n",
    "\n",
    "# Feature Engineering\n",
    "train = pd.get_dummies(data=train, drop_first=True)\n",
    "test = pd.get_dummies(data=test, drop_first=True)\n",
    "\n",
    "# Split Datasets\n",
    "train_y = train.pop('Survived')\n",
    "train_x = train\n",
    "test_x = test # Nothing to split! Test-set has no target columns."
   ]
  },
  {
   "cell_type": "markdown",
   "metadata": {},
   "source": [
    "## Ensemble Method : Bagging (aka Bootstrap Aggregator) with setting OOB=False\n",
    "* With Bagging, not all data is used for training but only a subset of data is used by each of the base_estimator.\n",
    "* With the reamining unused training data, you can cross-validate it inside andd this is called OOB (Out Of Bag) score."
   ]
  },
  {
   "cell_type": "code",
   "execution_count": null,
   "metadata": {},
   "outputs": [],
   "source": [
    "# Unpickle The classifier we want to use with Ensemble\n",
    "odtclf = pickle_out('pickle/optimized_dtree_clf.pkl')\n",
    "\n",
    "bagclf = BaggingClassifier(base_estimator=odtclf, \n",
    "                           n_estimators=500, # Number of base estimators\n",
    "                           bootstrap=True, # Sampling with replacement\n",
    "                           n_jobs=-1, # Use all cores\n",
    "#                            verbose=1,\n",
    "                           random_state=42)\n",
    "bagclf.fit(train_x, train_y)\n",
    "\n",
    "train_y_pred = bagclf.predict(train_x)\n",
    "print('accuracy_score = ',accuracy_score(train_y, train_y_pred))\n",
    "print('\\n confusion_matrix :\\n', confusion_matrix(train_y, train_y_pred))\n",
    "print('\\n classification_report: \\n', classification_report(train_y, train_y_pred))\n",
    "\n",
    "cv_scores = cross_val_score(bagclf, train_x, train_y, cv=3, scoring='accuracy')\n",
    "print('\\n cross_val_score : \\n', cv_scores)\n",
    "# [0.7979798  0.81144781 0.81144781] with n_estimators=10\n",
    "# [0.8047138 0.8047138 0.7979798] with n_estimators=100\n",
    "# [0.8013468 0.8013468 0.8013468] with n_estimators=500\n",
    "\n",
    "# Make Predictions\n",
    "# test_y_pred = bagclf.predict(test_x)"
   ]
  }
 ],
 "metadata": {
  "kernelspec": {
   "display_name": "Python 3",
   "language": "python",
   "name": "python3"
  },
  "language_info": {
   "codemirror_mode": {
    "name": "ipython",
    "version": 3
   },
   "file_extension": ".py",
   "mimetype": "text/x-python",
   "name": "python",
   "nbconvert_exporter": "python",
   "pygments_lexer": "ipython3",
   "version": "3.6.6"
  }
 },
 "nbformat": 4,
 "nbformat_minor": 2
}
