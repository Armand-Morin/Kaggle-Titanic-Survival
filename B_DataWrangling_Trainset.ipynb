{
 "cells": [
  {
   "cell_type": "markdown",
   "metadata": {},
   "source": [
    "## End Goal : Submit if a given set of PassengerIds survived/not\n",
    "```\n",
    "PassengerId, Survived\n",
    "123,0\n",
    "234,1\n",
    "...\n",
    "```"
   ]
  },
  {
   "cell_type": "markdown",
   "metadata": {},
   "source": [
    "\n",
    "### Data Dictionary\n",
    "\n",
    "| **Variable** | **Definition**                             | **Key**                                        |\n",
    "| ------------ | ------------------------------------------ | ---------------------------------------------- |\n",
    "| survival     | Survival                                   | 0 = No, 1 = Yes                                |\n",
    "| pclass       | Ticket class                               | 1 = 1st, 2 = 2nd, 3 = 3rd                      |\n",
    "| sex          | Sex                                        |                                                |\n",
    "| Age          | Age in years                               |                                                |\n",
    "| sibsp        | # of siblings / spouses aboard the Titanic |                                                |\n",
    "| parch        | # of parents / children aboard the Titanic |                                                |\n",
    "| ticket       | Ticket number                              |                                                |\n",
    "| fare         | Passenger fare                             |                                                |\n",
    "| cabin        | Cabin number                               |                                                |\n",
    "| embarked     | Port of Embarkation                        | C = Cherbourg, Q = Queenstown, S = Southampton |\n",
    "\n",
    "### Variable Notes\n",
    "\n",
    "**pclass**: A proxy for socio-economic status (SES)\n",
    "1st = Upper\n",
    "2nd = Middle\n",
    "3rd = Lower\n",
    "**age**: Age is fractional if less than 1. If the age is estimated, is it in the form of xx.5\n",
    "**sibsp**: The dataset defines family relations in this way...\n",
    "Sibling = brother, sister, stepbrother, stepsister\n",
    "Spouse = husband, wife (mistresses and fiancés were ignored)\n",
    "**parch**: The dataset defines family relations in this way...\n",
    "Parent = mother, father\n",
    "Child = daughter, son, stepdaughter, stepson\n",
    "Some children travelled only with a nanny, therefore parch=0 for them.\n"
   ]
  },
  {
   "cell_type": "code",
   "execution_count": null,
   "metadata": {},
   "outputs": [],
   "source": [
    "%matplotlib inline\n",
    "import matplotlib.pyplot as plt\n",
    "import numpy as np\n",
    "import pandas as pd\n",
    "import seaborn as sns\n",
    "sns.set()"
   ]
  },
  {
   "cell_type": "code",
   "execution_count": null,
   "metadata": {},
   "outputs": [],
   "source": [
    "sns.set_style('darkgrid')"
   ]
  },
  {
   "cell_type": "code",
   "execution_count": null,
   "metadata": {},
   "outputs": [],
   "source": [
    "df = pd.read_csv('data/train.csv', index_col='PassengerId')\n",
    "df.head()"
   ]
  },
  {
   "cell_type": "markdown",
   "metadata": {},
   "source": [
    "## Task 1 : Identify and Impune Missing Fields"
   ]
  },
  {
   "cell_type": "code",
   "execution_count": null,
   "metadata": {},
   "outputs": [],
   "source": [
    "df.info()\n",
    "# Age has (891 - 714 = 177) missing columns\n",
    "# Cabin has (891 - 204 = 687) missing columns"
   ]
  },
  {
   "cell_type": "code",
   "execution_count": null,
   "metadata": {},
   "outputs": [],
   "source": [
    "ser = df.isnull().sum()\n",
    "ser = ser.loc[ser>0]\n",
    "ser"
   ]
  },
  {
   "cell_type": "code",
   "execution_count": null,
   "metadata": {},
   "outputs": [],
   "source": [
    "df.loc[df.Embarked.isnull()]  # Fare is 80.0 for these 2 females carrying 1st class ticket. And Cabin is B28."
   ]
  },
  {
   "cell_type": "code",
   "execution_count": null,
   "metadata": {},
   "outputs": [],
   "source": [
    "# Find female passengers whose  1st class Fare is 80.0 and if their cabin starts with B?\n",
    "df.loc[(df.Sex=='female') & (df.Pclass==1) & (df.Fare==80.0000)] # Getting same 2 records with Embarked value asa nan.\n",
    "df.loc[df.Fare==80.0000] # Getting same 2 records with Embarked value asa nan.\n",
    "df.loc[df.Cabin=='B28'] # Getting same 2 records with Embarked value asa nan.\n",
    "df.loc[df.Ticket=='113572'] # Getting same 2 records with Embarked value asa nan."
   ]
  },
  {
   "cell_type": "code",
   "execution_count": null,
   "metadata": {},
   "outputs": [],
   "source": [
    "# Filling missing values with mode\n",
    "mode = df.Embarked.mode().values[0]\n",
    "# df[['Embarked']].fillna(mode, inplace=True) #Fails!\n",
    "# df[['Embarked']] = df[['Embarked']].fillna(mode) #Works!\n",
    "# df.loc[[62,830],'Embarked'] = [mode,mode] #Works!\n",
    "df.fillna({'Embarked':mode}, inplace=True) # Works! This is nicer way. Use Dict {'coln_name': replacement_value}\n",
    "df.isnull().sum()"
   ]
  },
  {
   "cell_type": "code",
   "execution_count": null,
   "metadata": {},
   "outputs": [],
   "source": [
    "# With majority of Cabin columns having missing values, this column can be dropped\n",
    "df.drop(columns=['Cabin'], inplace=True)\n",
    "df.isnull().sum()"
   ]
  },
  {
   "cell_type": "code",
   "execution_count": null,
   "metadata": {},
   "outputs": [],
   "source": [
    "# How to meaningfully impute Missing Ages???\n",
    "df.Age.describe()"
   ]
  },
  {
   "cell_type": "code",
   "execution_count": null,
   "metadata": {},
   "outputs": [],
   "source": [
    "''' This function is extracted to seperate file and can be seen imported after this snippet\n",
    "def title(name):\n",
    "    titles = ['Mr.','Mrs.','Miss.', 'Ms.', 'Master.', 'Major.', 'Mme.', \n",
    "              'Mlle.', 'Sir.', 'Lady.', 'Dr.', 'Rev.', 'Col.', 'Capt.', 'Don.', 'Dona.',\n",
    "             'Countess.', 'Jonkheer.']\n",
    "    for t in titles:\n",
    "        if (t in name):\n",
    "            return t\n",
    "'''\n",
    "\n",
    "from util.eda import title\n",
    "# df.loc[df.Name.apply(title).isnull()].Name\n",
    "df['Title'] = df.Name.apply(title)\n",
    "df.Title.value_counts()"
   ]
  },
  {
   "cell_type": "code",
   "execution_count": null,
   "metadata": {},
   "outputs": [],
   "source": [
    "age_map = df.groupby(by=['Title']).mean().Age.round()\n",
    "# age_map.to_pickle('pickle/age_map.pkl')\n",
    "age_map.to_csv('data/age_map.csv', index=True, header=True)\n",
    "age_map"
   ]
  },
  {
   "cell_type": "code",
   "execution_count": null,
   "metadata": {},
   "outputs": [],
   "source": [
    "# age_map['Col.']\n",
    "# df[['Title','Age']].fillna(??)\n",
    "\n",
    "''' This function is extracted to seperate file\n",
    "def guess_age(row):\n",
    "#     print(type(row)) # <class 'pandas.core.series.Series'?\n",
    "    t = row['Title']\n",
    "    row['Age'] = age_map[t]\n",
    "    return row\n",
    "'''\n",
    "from util.eda import guess_age # Importing the extracted function above\n",
    "\n",
    "# df.loc[df.Age.isnull()].apply(guess_age, axis=1)\n",
    "df.loc[df.Age.isnull()] = df.loc[df.Age.isnull()].apply(guess_age, axis=1)\n",
    "df.isnull().sum()"
   ]
  },
  {
   "cell_type": "code",
   "execution_count": null,
   "metadata": {},
   "outputs": [],
   "source": [
    "# Data-Manipulation\n",
    "df['GroupCount'] = eval('df.SibSp + df.Parch')\n",
    "df.head()"
   ]
  },
  {
   "cell_type": "markdown",
   "metadata": {},
   "source": [
    "## Task 1 Completed Successfully!\n",
    "* Added New Columns\n",
    "  - 'Title'\n",
    "* Imputed missing values:\n",
    "  - Cabin : drop column because too many missing values\n",
    "  - Age : Guess age by mean-age of the  group the person belongs to. See guess_age()\n",
    "  - Embarked : Filled the gap with mode - 'S' in this case."
   ]
  },
  {
   "cell_type": "code",
   "execution_count": null,
   "metadata": {},
   "outputs": [],
   "source": [
    "# Categorize Ages into  Groups -- Kids, Children, Adults, Aged\n",
    "''' this method is extracted to seperate file\n",
    "def age_group(age):\n",
    "    if (age == np.nan): return np.nan\n",
    "    elif (age<3): return 'baby'\n",
    "    elif (age<12): return 'child'\n",
    "    elif (age<20): return 'teen'\n",
    "    elif (age<60): return 'adult'\n",
    "    else: return 'aged'\n",
    "'''\n",
    "from util.eda import age_group\n",
    "# bins = [0,3,17,59,120]\n",
    "# df['AgeGroup'] = pd.cut(df['Age'], bins)\n",
    "# df['AgeGroup'].value_counts()\n",
    "df['AgeGroup'] = df.Age.map(age_group)\n",
    "df['AgeGroup']"
   ]
  },
  {
   "cell_type": "code",
   "execution_count": null,
   "metadata": {},
   "outputs": [],
   "source": [
    "# ax = sns.regplot(x=\"Age\", y=\"Fare\", data=df)\n",
    "# df.loc[df.Age.isnull()==False].groupby(by=['Embarked', 'Pclass', 'Fare']).mean()\n",
    "# df[['RoundedFare']] = df['Fare'].rou #apply(lambda x: (x//10)*10).value_counts()\n",
    "''' Extracted to seperate file\n",
    "def rounded_fare(fare):\n",
    "    #Rounds fare to nearest 10\n",
    "    return round( (fare/10) ) * 10\n",
    "'''\n",
    "from util.eda import rounded_fare\n",
    "df['RoundedFare'] = df.Fare.map(rounded_fare) # (df.Fare /10).round() * 10 #.value_counts()\n",
    "df.RoundedFare.value_counts()\n",
    "tmp = df.loc[df.Age.isnull()==False].groupby(by=['Embarked', 'Pclass', 'AgeGroup']).mean()\n",
    "# tmp.loc[['S',3,61]]\n",
    "# queryExpr = 'Pclass in [1,3]' # Works! \n",
    "queryExpr = '(Embarked==\"S\") & (Pclass==3) & (AgeGroup==\"aged\")'\n",
    "tmp.query(queryExpr)\n",
    "# tmp.loc[[('S',3,61)]] # Works!\n",
    "# df.drop(columns=['RoundedFare'], inplace=True)"
   ]
  },
  {
   "cell_type": "code",
   "execution_count": null,
   "metadata": {},
   "outputs": [],
   "source": [
    "# How to display just Fare and RoundedFare columns\n",
    "# Ref.: https://jeffdelaney.me/blog/useful-snippets-in-pandas/\n",
    "# Ref.: http://pandas.pydata.org/pandas-docs/stable/advanced.html#cross-section\n",
    "fare_pivot_table = tmp.loc[:,['Fare','RoundedFare']] # Works to show all indices\n",
    "fare_pivot_table.to_pickle('pickle/fare_pivot_table.pkl')"
   ]
  },
  {
   "cell_type": "code",
   "execution_count": null,
   "metadata": {},
   "outputs": [],
   "source": [
    "tmp.loc[('S',1,['baby','aged']),:] # Show selective indices and all features/columns"
   ]
  },
  {
   "cell_type": "code",
   "execution_count": null,
   "metadata": {},
   "outputs": [],
   "source": [
    "tmp.loc[('S',1,['baby','aged']),['Fare','RoundedFare']]"
   ]
  },
  {
   "cell_type": "markdown",
   "metadata": {},
   "source": [
    "## Task 2 : Identify Noise/Duplicate columns to be Dropped - Mark and Sweep\n",
    "* Name\n",
    "* Ticket\n",
    "* Fare\n",
    "* AgeGroup (Choosing Age feature for Modelling)\n",
    "* Title"
   ]
  },
  {
   "cell_type": "code",
   "execution_count": null,
   "metadata": {},
   "outputs": [],
   "source": [
    "df.head()"
   ]
  },
  {
   "cell_type": "code",
   "execution_count": null,
   "metadata": {},
   "outputs": [],
   "source": [
    "df.Ticket.value_counts()"
   ]
  },
  {
   "cell_type": "code",
   "execution_count": null,
   "metadata": {},
   "outputs": [],
   "source": [
    "df.drop(columns=['Name','Ticket'], inplace=True) # Name, Ticket is just a meta-data and not a feature\n",
    "df.head()"
   ]
  },
  {
   "cell_type": "code",
   "execution_count": null,
   "metadata": {},
   "outputs": [],
   "source": [
    "df.drop(columns=['Fare','AgeGroup','Title'],inplace=True)\n",
    "df.head()"
   ]
  },
  {
   "cell_type": "code",
   "execution_count": null,
   "metadata": {},
   "outputs": [],
   "source": [
    "print(df.Sex.unique())\n",
    "df.Sex.value_counts()"
   ]
  },
  {
   "cell_type": "code",
   "execution_count": null,
   "metadata": {},
   "outputs": [],
   "source": [
    "df['Embarked'].value_counts()"
   ]
  },
  {
   "cell_type": "code",
   "execution_count": null,
   "metadata": {},
   "outputs": [],
   "source": [
    "df.head()"
   ]
  },
  {
   "cell_type": "markdown",
   "metadata": {},
   "source": [
    "## Task 3 : Feature Engineering (on 2nd thoughts not doing it here and now!)\n",
    "* Category Columns\n",
    "  - Sex\n",
    "  - Embarked\n",
    "  - AgeGroup"
   ]
  },
  {
   "cell_type": "code",
   "execution_count": null,
   "metadata": {},
   "outputs": [],
   "source": [
    "# pd.get_dummies(data=df, drop_first=True)"
   ]
  },
  {
   "cell_type": "markdown",
   "metadata": {},
   "source": [
    "## Final Task : Persist processed train-dataset"
   ]
  },
  {
   "cell_type": "code",
   "execution_count": null,
   "metadata": {},
   "outputs": [],
   "source": [
    "df.to_csv('data/train_processed_1.csv')"
   ]
  },
  {
   "cell_type": "code",
   "execution_count": null,
   "metadata": {},
   "outputs": [],
   "source": [
    "# df.head()"
   ]
  },
  {
   "cell_type": "markdown",
   "metadata": {},
   "source": [
    "## Ancilarry EDA : Would Cabin column have helped, if not deleted???"
   ]
  },
  {
   "cell_type": "code",
   "execution_count": null,
   "metadata": {},
   "outputs": [],
   "source": [
    "# df.loc[df['Cabin'] == 'B96 B98']"
   ]
  },
  {
   "cell_type": "markdown",
   "metadata": {},
   "source": [
    "## Digging a bit on the domain understanding\n",
    "* References :https://www.rmg.co.uk/discover/explore/rms-titanic-fact-sheet\n",
    "    - Passengers could be 1st, 2nd, 3rd class or Crew. How is a Crew member represented in the dataset??\n",
    "* Is there any relevance of cabin-layout and survival? See diagram below: <img src='images/titanic.jpg'/>\n",
    "    - 3rd class cabins are at the either end of the ship, bordered inside by 2nd class cabins. At the middle are 1st-class cabins.\n",
    "    - For zoomable vectorized-picture of dec plan/layout see https://www.encyclopedia-titanica.org/titanic-deckplans/\n",
    "\n"
   ]
  },
  {
   "cell_type": "code",
   "execution_count": null,
   "metadata": {},
   "outputs": [],
   "source": [
    "# Split cabins as Cabin-Class, Cabin-Counts, Cabin-Start\n",
    "'''\n",
    "def split_cabins(df):\n",
    "#     cdf = df['Cabin']\n",
    "    for idx,row in df.iterrows():\n",
    "        print(df['Cabin'])\n",
    "        break;\n",
    "\n",
    "split_cabins(df)        \n",
    "'''"
   ]
  },
  {
   "cell_type": "code",
   "execution_count": null,
   "metadata": {},
   "outputs": [],
   "source": []
  }
 ],
 "metadata": {
  "kernelspec": {
   "display_name": "Python 3",
   "language": "python",
   "name": "python3"
  },
  "language_info": {
   "codemirror_mode": {
    "name": "ipython",
    "version": 3
   },
   "file_extension": ".py",
   "mimetype": "text/x-python",
   "name": "python",
   "nbconvert_exporter": "python",
   "pygments_lexer": "ipython3",
   "version": "3.6.6"
  }
 },
 "nbformat": 4,
 "nbformat_minor": 2
}
