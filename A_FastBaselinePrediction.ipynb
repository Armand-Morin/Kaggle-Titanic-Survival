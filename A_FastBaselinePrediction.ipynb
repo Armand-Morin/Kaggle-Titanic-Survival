{
 "cells": [
  {
   "cell_type": "markdown",
   "metadata": {},
   "source": [
    "# Objective : Get baseline Prediction Accuracy"
   ]
  },
  {
   "cell_type": "code",
   "execution_count": null,
   "metadata": {},
   "outputs": [],
   "source": [
    "%matplotlib inline\n",
    "import matplotlib.pyplot as plt\n",
    "import numpy as np\n",
    "import pandas as pd\n",
    "import seaborn as sns\n",
    "sns.set()"
   ]
  },
  {
   "cell_type": "code",
   "execution_count": null,
   "metadata": {},
   "outputs": [],
   "source": [
    "from sklearn.model_selection import train_test_split, cross_val_score\n",
    "from sklearn.metrics import confusion_matrix, classification_report\n",
    "from sklearn.dummy import DummyClassifier\n",
    "from sklearn.linear_model import SGDClassifier"
   ]
  },
  {
   "cell_type": "code",
   "execution_count": null,
   "metadata": {},
   "outputs": [],
   "source": [
    "sns.set_style('darkgrid')"
   ]
  },
  {
   "cell_type": "code",
   "execution_count": null,
   "metadata": {},
   "outputs": [],
   "source": [
    "x = pd.read_csv('data/train.csv', index_col='PassengerId')\n",
    "x.head()"
   ]
  },
  {
   "cell_type": "code",
   "execution_count": null,
   "metadata": {},
   "outputs": [],
   "source": [
    "from IPython.display import display, HTML\n",
    "\n",
    "y = x.pop('Survived')\n",
    "y.name = 'Survived'\n",
    "\n",
    "# display(HTML(x.head().to_html())) # Note that if you just print df1.to_html() you'll get the raw, unrendered HTML.\n",
    "display(x.head()) # Easier alternative to print as HTML\n",
    "display(y.to_frame().head())\n"
   ]
  },
  {
   "cell_type": "code",
   "execution_count": null,
   "metadata": {},
   "outputs": [],
   "source": [
    "x.Ticket.value_counts()"
   ]
  },
  {
   "cell_type": "code",
   "execution_count": null,
   "metadata": {},
   "outputs": [],
   "source": [
    "x.Cabin.value_counts()"
   ]
  },
  {
   "cell_type": "code",
   "execution_count": null,
   "metadata": {},
   "outputs": [],
   "source": [
    "x.Fare.value_counts()"
   ]
  },
  {
   "cell_type": "code",
   "execution_count": null,
   "metadata": {},
   "outputs": [],
   "source": [
    "# Removing assumed noise columns\n",
    "x.drop(columns=['Name','Ticket','Cabin'], inplace=True)\n",
    "x.head()"
   ]
  },
  {
   "cell_type": "code",
   "execution_count": null,
   "metadata": {},
   "outputs": [],
   "source": [
    "x = pd.get_dummies(x, drop_first=True)\n",
    "x.head()"
   ]
  },
  {
   "cell_type": "code",
   "execution_count": null,
   "metadata": {},
   "outputs": [],
   "source": [
    "x.isnull().sum()"
   ]
  },
  {
   "cell_type": "code",
   "execution_count": null,
   "metadata": {},
   "outputs": [],
   "source": [
    "x.loc[x.Age.isnull()]"
   ]
  },
  {
   "cell_type": "code",
   "execution_count": null,
   "metadata": {},
   "outputs": [],
   "source": [
    "x.fillna(x.mean(), inplace=True)"
   ]
  },
  {
   "cell_type": "code",
   "execution_count": null,
   "metadata": {},
   "outputs": [],
   "source": [
    "x_train, x_test, y_train, y_test = train_test_split(x,y, test_size=0.1, stratify=y, random_state=42)\n",
    "print(x_train.shape,'\\n',x_test.shape)"
   ]
  },
  {
   "cell_type": "markdown",
   "metadata": {},
   "source": [
    "## Dummy Classification"
   ]
  },
  {
   "cell_type": "code",
   "execution_count": null,
   "metadata": {},
   "outputs": [],
   "source": [
    "clf = DummyClassifier()\n",
    "clf.fit(x_train, y_train)\n",
    "\n",
    "# Measuring Accuracy with K-fold Cross-Validation\n",
    "cv_scores = cross_val_score(clf, x_train, y_train, cv=3, scoring='accuracy')\n",
    "print('CV  Scores :',cv_scores)\n",
    "# CV  Scores : [0.58955224 0.53183521 0.47744361]\n",
    "\n",
    "y_pred = clf.predict(x_train)\n",
    "print('Confusion Matrix:\\n',confusion_matrix(y_train,y_pred))\n",
    "print('Classification Report:\\n',classification_report(y_train, y_pred))\n",
    "print('Quick Accuracy :', max(cv_scores.round(2)))"
   ]
  },
  {
   "cell_type": "markdown",
   "metadata": {},
   "source": [
    "## Quick Classification"
   ]
  },
  {
   "cell_type": "code",
   "execution_count": null,
   "metadata": {},
   "outputs": [],
   "source": [
    "# Modelling with SGDClassifier (Stochastic Gradient Descecnt Classifier)\n",
    "clf = SGDClassifier(random_state=42, max_iter=100)\n",
    "clf.fit(x_train,y_train)\n",
    "\n",
    "# Measuring Accuracy with K-fold Cross-Validation\n",
    "cv_scores = cross_val_score(clf, x_train, y_train, cv=3, scoring='accuracy')\n",
    "print('CV  Scores :',cv_scores)\n",
    "# cv_scores: [0.64552239, 0.41573034, 0.78571429]\n",
    "\n",
    "y_pred = clf.predict(x_train)\n",
    "print('Confusion Matrix:\\n',confusion_matrix(y_train,y_pred))\n",
    "print('Classification Report:\\n',classification_report(y_train, y_pred))\n",
    "print('Quick Accuracy :', max(cv_scores.round(2))) # 0.7857142857142857"
   ]
  },
  {
   "cell_type": "markdown",
   "metadata": {},
   "source": [
    "## Next Mission\n",
    "Can we get better than this Base-line Accuracy Score of 78.57%? Let's try!"
   ]
  },
  {
   "cell_type": "code",
   "execution_count": null,
   "metadata": {},
   "outputs": [],
   "source": []
  }
 ],
 "metadata": {
  "kernelspec": {
   "display_name": "Python 3",
   "language": "python",
   "name": "python3"
  },
  "language_info": {
   "codemirror_mode": {
    "name": "ipython",
    "version": 3
   },
   "file_extension": ".py",
   "mimetype": "text/x-python",
   "name": "python",
   "nbconvert_exporter": "python",
   "pygments_lexer": "ipython3",
   "version": "3.6.6"
  }
 },
 "nbformat": 4,
 "nbformat_minor": 2
}
