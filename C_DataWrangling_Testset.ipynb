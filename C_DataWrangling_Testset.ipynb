{
 "cells": [
  {
   "cell_type": "code",
   "execution_count": null,
   "metadata": {},
   "outputs": [],
   "source": [
    "%matplotlib inline\n",
    "import matplotlib.pyplot as plt\n",
    "import numpy as np\n",
    "import pandas as pd\n",
    "import seaborn as sns\n",
    "sns.set()"
   ]
  },
  {
   "cell_type": "code",
   "execution_count": null,
   "metadata": {},
   "outputs": [],
   "source": [
    "df = pd.read_csv('data/test.csv', index_col='PassengerId')\n",
    "df.head()"
   ]
  },
  {
   "cell_type": "code",
   "execution_count": null,
   "metadata": {},
   "outputs": [],
   "source": [
    "df.isnull().sum()"
   ]
  },
  {
   "cell_type": "markdown",
   "metadata": {},
   "source": [
    "## Pre-processing Task 1"
   ]
  },
  {
   "cell_type": "code",
   "execution_count": null,
   "metadata": {},
   "outputs": [],
   "source": [
    "# Objective : Adding Title column, extracting Title information from Name column\n",
    "from util.eda import title\n",
    "# df.loc[df.Name.apply(title).isnull()].Name\n",
    "df['Title'] = df.Name.apply(title)\n",
    "df.Title.value_counts()"
   ]
  },
  {
   "cell_type": "code",
   "execution_count": null,
   "metadata": {},
   "outputs": [],
   "source": [
    "# Importing the previously persisted pickle (the pandaa Series object, in this case here)\n",
    "# age_map = pd.read_pickle(\"pickle/age_map.pkl\")\n",
    "# age_map = pd.read_csv('data/age_map.csv', index_col='Title')\n",
    "# age_map = age_map['Age']\n",
    "# age_map"
   ]
  },
  {
   "cell_type": "code",
   "execution_count": null,
   "metadata": {},
   "outputs": [],
   "source": [
    "# Next  step requires installation of this package\n",
    "# !pip install ipynb"
   ]
  },
  {
   "cell_type": "code",
   "execution_count": null,
   "metadata": {},
   "outputs": [],
   "source": [
    "# Importing the function definition from previously defined notebook (one_eda)\n",
    "\n",
    "# from ipynb.fs.defs.one_eda import guess_age\n",
    "# from ipynb.fs.full.one_eda import guess_age\n",
    "#test import\n",
    "# guess_age(df.iloc[1,:])\n",
    "\n",
    "# Alternate Solution that works but is really bad practicec as this can pollute the current namespace with variables from other\n",
    "# %%capture\n",
    "# %run one_eda.ipynb\n",
    "# guess_age(df.iloc[1,:])"
   ]
  },
  {
   "cell_type": "code",
   "execution_count": null,
   "metadata": {},
   "outputs": [],
   "source": [
    "# Impute missing Ages\n",
    "from util.eda import guess_age\n",
    "# guess_age(df.iloc[1,:]) # For testing purpose to see if the function definition is loaded and works fine\n",
    "df.loc[df.Age.isnull()] = df.loc[df.Age.isnull()].apply(guess_age, axis=1)\n",
    "df.isnull().sum()"
   ]
  },
  {
   "cell_type": "code",
   "execution_count": null,
   "metadata": {
    "scrolled": true
   },
   "outputs": [],
   "source": [
    "# Objective Missing Fare\n",
    "df.loc[df.Fare.isnull()] "
   ]
  },
  {
   "cell_type": "code",
   "execution_count": null,
   "metadata": {},
   "outputs": [],
   "source": [
    "from util.eda import age_group\n",
    "df['AgeGroup'] = df.Age.map(age_group)\n",
    "df['AgeGroup'].head()"
   ]
  },
  {
   "cell_type": "code",
   "execution_count": null,
   "metadata": {
    "scrolled": true
   },
   "outputs": [],
   "source": [
    "fare_pivot_table = pd.read_pickle('pickle/fare_pivot_table.pkl')\n",
    "fare_pivot_table"
   ]
  },
  {
   "cell_type": "code",
   "execution_count": null,
   "metadata": {},
   "outputs": [],
   "source": [
    "df.loc[df.Fare.isnull()] # Know their following details : Embarked, Pclass, AgeGroup to guess their fare"
   ]
  },
  {
   "cell_type": "code",
   "execution_count": null,
   "metadata": {},
   "outputs": [],
   "source": [
    "impute_fare_value = fare_pivot_table.loc[('S',3,'aged'),['RoundedFare']].values[0]"
   ]
  },
  {
   "cell_type": "code",
   "execution_count": null,
   "metadata": {},
   "outputs": [],
   "source": [
    "df.loc[df.Fare.isnull(),'Fare'] = impute_fare_value\n",
    "df.loc[df.Fare.isnull()]"
   ]
  },
  {
   "cell_type": "code",
   "execution_count": null,
   "metadata": {},
   "outputs": [],
   "source": [
    "df.isnull().sum()"
   ]
  },
  {
   "cell_type": "code",
   "execution_count": null,
   "metadata": {},
   "outputs": [],
   "source": [
    "df['GroupCount'] = eval('df.SibSp + df.Parch')\n",
    "df.head()"
   ]
  },
  {
   "cell_type": "markdown",
   "metadata": {},
   "source": [
    "## Removing Meta-data columns that are not Features and Duplicate Features"
   ]
  },
  {
   "cell_type": "code",
   "execution_count": null,
   "metadata": {},
   "outputs": [],
   "source": [
    "df.drop(columns=['Cabin','Name', 'Ticket'], inplace=True)\n",
    "df.head()"
   ]
  },
  {
   "cell_type": "code",
   "execution_count": null,
   "metadata": {},
   "outputs": [],
   "source": [
    "from util.eda import rounded_fare\n",
    "df['RoundedFare'] = df.Fare.map(rounded_fare)\n",
    "df.head()"
   ]
  },
  {
   "cell_type": "code",
   "execution_count": null,
   "metadata": {},
   "outputs": [],
   "source": [
    "# Because Age feature is transformed to AgeGroup, Age can be removed?? No, remove AgeGroup. Age works better for modelling. AgeGroup has too many categories.\n",
    "# Bacause Fare feature is transformed to RoundedFare, Fare can be removed?\n",
    "# Because Title is not helpful for prediction\n",
    "df.drop(columns=['AgeGroup','Fare', 'Title'], inplace=True)\n",
    "df.head()"
   ]
  },
  {
   "cell_type": "markdown",
   "metadata": {},
   "source": [
    "## Final Task : Persist processed test-dataset"
   ]
  },
  {
   "cell_type": "code",
   "execution_count": null,
   "metadata": {},
   "outputs": [],
   "source": [
    "df.to_csv('data/test_processed_1.csv')"
   ]
  }
 ],
 "metadata": {
  "kernelspec": {
   "display_name": "Python 3",
   "language": "python",
   "name": "python3"
  },
  "language_info": {
   "codemirror_mode": {
    "name": "ipython",
    "version": 3
   },
   "file_extension": ".py",
   "mimetype": "text/x-python",
   "name": "python",
   "nbconvert_exporter": "python",
   "pygments_lexer": "ipython3",
   "version": "3.6.6"
  }
 },
 "nbformat": 4,
 "nbformat_minor": 2
}
