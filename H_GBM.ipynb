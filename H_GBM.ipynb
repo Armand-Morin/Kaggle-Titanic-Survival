{
 "cells": [
  {
   "cell_type": "markdown",
   "metadata": {},
   "source": [
    "# Gradient Boosting Machine (GBM) & Xtreme Gradient Boosting (XGB)"
   ]
  },
  {
   "cell_type": "markdown",
   "metadata": {},
   "source": [
    "## Getting data ready"
   ]
  },
  {
   "cell_type": "code",
   "execution_count": null,
   "metadata": {},
   "outputs": [],
   "source": [
    "%matplotlib inline\n",
    "import matplotlib.pyplot as plt\n",
    "import numpy as np\n",
    "import pandas as pd\n",
    "import seaborn as sns\n",
    "sns.set()"
   ]
  },
  {
   "cell_type": "code",
   "execution_count": null,
   "metadata": {},
   "outputs": [],
   "source": [
    "# The classifiers\n",
    "from sklearn.ensemble import GradientBoostingClassifier\n",
    "\n",
    "# Metrics and Validation\n",
    "from sklearn.model_selection import train_test_split\n",
    "from sklearn.model_selection import ShuffleSplit, cross_val_score\n",
    "from sklearn.model_selection import GridSearchCV\n",
    "\n",
    "from sklearn.metrics import accuracy_score, confusion_matrix, classification_report\n",
    "\n",
    "# Custom Functions\n",
    "from util.author import results2csv\n",
    "from util.fe import transform"
   ]
  },
  {
   "cell_type": "code",
   "execution_count": null,
   "metadata": {},
   "outputs": [],
   "source": [
    "# Install if xgboost is not already installed\n",
    "# !conda install py-xgboost\n",
    "\n",
    "import xgboost as xgb"
   ]
  },
  {
   "cell_type": "code",
   "execution_count": null,
   "metadata": {},
   "outputs": [],
   "source": [
    "# Load Precessed Data\n",
    "train = pd.read_csv('data/train_processed_1.csv', index_col='PassengerId')\n",
    "test = pd.read_csv('data/test_processed_1.csv', index_col='PassengerId')\n",
    "\n",
    "# Feature Engineering\n",
    "train = pd.get_dummies(data=train, drop_first=True)\n",
    "test = pd.get_dummies(data=test, drop_first=True)\n",
    "\n",
    "# Split Datasets\n",
    "train_y = train.pop('Survived')\n",
    "train_x = train\n",
    "test_x = test # Nothing to split! Test-set has no target columns.\n",
    "\n",
    "# select_colns = ['Pclass', 'RoundedFare', 'Age', 'SibSp', 'Parch', 'Sex_male', 'Embarked_Q', 'Embarked_S']\n",
    "select_colns = ['Pclass', 'Age', 'GroupCount', 'Sex_male', 'Embarked_Q', 'Embarked_S']\n",
    "train_x = transform(train_x, select_colns)\n",
    "test_x = transform(test_x, select_colns)"
   ]
  },
  {
   "cell_type": "markdown",
   "metadata": {},
   "source": [
    "## GBM with default params"
   ]
  },
  {
   "cell_type": "code",
   "execution_count": null,
   "metadata": {},
   "outputs": [],
   "source": [
    "gbmclf = GradientBoostingClassifier()\n",
    "gbmclf.fit(train_x, train_y)\n",
    "\n",
    "# Measuring Accuracy with K-fold Cross-Validation\n",
    "cv = ShuffleSplit(n_splits=3, test_size=0.3, random_state=42)\n",
    "cv_scores = cross_val_score(gbmclf, train_x, train_y, cv=cv, scoring='accuracy')\n",
    "print('CV Scores :', cv_scores)\n",
    "# CV Scores : [0.82089552 0.83208955 0.8619403 ]\n",
    "\n",
    "print('Confusion Matrix :\\n', confusion_matrix(train_y, gbmclf.predict(train_x)))\n",
    "'''\n",
    " [[522  27]\n",
    " [ 79 263]]\n",
    "'''\n",
    "\n",
    "# Make Predictions    \n",
    "test_y_pred = gbmclf.predict(test_x)\n",
    "\n",
    "# Persist Data to CSV file for submission\n",
    "fname = \"data/predictions/gbm_default.csv\"\n",
    "results2csv(test_x.index, test_y_pred, fname)"
   ]
  },
  {
   "cell_type": "markdown",
   "metadata": {},
   "source": [
    "## XGB with default params, manual tuning  of params and using GridSearchCV tuning\n",
    "* Ref.: https://xgboost.readthedocs.io/en/latest/tutorials/model.html\n",
    "* XGB = GB with Regularization"
   ]
  },
  {
   "cell_type": "code",
   "execution_count": null,
   "metadata": {},
   "outputs": [],
   "source": [
    "xgbclf = xgb.XGBClassifier(random_state=42)\n",
    "xgbclf.fit(train_x,train_y)\n",
    "\n",
    "# Measuring Accuracy with K-fold Cross-Validation\n",
    "cv = ShuffleSplit(n_splits=3, test_size=0.3, random_state=42)\n",
    "cv_scores = cross_val_score(xgbclf, train_x, train_y, cv=cv, scoring='accuracy')\n",
    "print('CV Scores :', cv_scores)\n",
    "# CV Scores : [0.82089552 0.8358209  0.87313433]\n",
    "\n",
    "print('Confusion Matrix :\\n', confusion_matrix(train_y, xgbclf.predict(train_x)))\n",
    "'''\n",
    " [[518  31]\n",
    " [ 87 255]]\n",
    "'''\n",
    "\n",
    "# Make Predictions    \n",
    "test_y_pred = xgbclf.predict(test_x)\n",
    "\n",
    "# Persist Data to CSV file for submission\n",
    "fname = \"data/predictions/xgb_default.csv\"\n",
    "results2csv(test_x.index, test_y_pred, fname)"
   ]
  },
  {
   "cell_type": "code",
   "execution_count": null,
   "metadata": {},
   "outputs": [],
   "source": [
    "xgbclf"
   ]
  },
  {
   "cell_type": "code",
   "execution_count": null,
   "metadata": {},
   "outputs": [],
   "source": [
    "# Manual Tuning of Parameters\n",
    "xgbclf = xgb.XGBClassifier(random_state=42, n_estimators=77, n_jobs=-1, silent=False, \n",
    "                           learning_rate=0.15, gamma=0.5, max_depth=3, subsample=0.3)\n",
    "xgbclf.fit(train_x,train_y)\n",
    "\n",
    "# Measuring Accuracy with K-fold Cross-Validation\n",
    "cv = ShuffleSplit(n_splits=3, test_size=0.3, random_state=42)\n",
    "cv_scores = cross_val_score(xgbclf, train_x, train_y, cv=cv, scoring='accuracy')\n",
    "print('CV Scores :', cv_scores)\n",
    "# CV Scores : [0.82089552 0.8358209  0.87313433] # with default params\n",
    "# CV Scores : [0.82462687 0.84701493 0.85820896] # with manual tuning of params\n",
    "\n",
    "print('Confusion Matrix :\\n', confusion_matrix(train_y, xgbclf.predict(train_x)))\n",
    "'''\n",
    " [[514  35]\n",
    " [ 90 252]]\n",
    "'''\n",
    "\n",
    "# Make Predictions    \n",
    "test_y_pred = xgbclf.predict(test_x)\n",
    "\n",
    "# Persist Data to CSV file for submission\n",
    "fname = \"data/predictions/xgb_manual_tuning.csv\"\n",
    "results2csv(test_x.index, test_y_pred, fname)"
   ]
  },
  {
   "cell_type": "code",
   "execution_count": null,
   "metadata": {},
   "outputs": [],
   "source": [
    "xgbclf = xgb.XGBClassifier(random_state=42,n_jobs=-1, silent=False)\n",
    "params ={\n",
    "    'learning_rate': [0.05,0.1,0.15,0.2,0.25,0.5],\n",
    "    'max_depth': [3,5,7,9],\n",
    "    'subsample': [0.3,0.5,0.7,1]\n",
    "}\n",
    "gsclf = GridSearchCV(xgbclf, \n",
    "                     n_jobs=-1, # Use all cores of the machine\n",
    "                     param_grid=params,\n",
    "                     cv=3,\n",
    "                     verbose=1, \n",
    "                     scoring='accuracy')\n",
    "gsclf.fit(train_x, train_y)\n",
    "\n",
    "best_score = gsclf.best_score_\n",
    "print('Best Score : ', best_score)\n",
    "# Best Score :  0.8428731762065096\n",
    "\n",
    "best_params = gsclf.best_estimator_.get_params()\n",
    "for k in sorted(params.keys()):\n",
    "    print('\\t{0} \\t {1}'.format(k, best_params[k]))\n",
    "'''\n",
    "\tlearning_rate \t 0.1\n",
    "\tmax_depth \t 3\n",
    "\tsubsample \t 1\n",
    "'''    \n",
    "# Measuring Accuracy with K-fold Cross-Validation\n",
    "cv = ShuffleSplit(n_splits=3, test_size=0.3, random_state=42)\n",
    "cv_scores = cross_val_score(gsclf, train_x, train_y, cv=cv, scoring='accuracy')\n",
    "print('CV Scores :', cv_scores)\n",
    "# CV Scores : [0.82089552 0.8358209  0.84701493]\n",
    "\n",
    "print('Confusion Matrix :\\n', confusion_matrix(train_y, gsclf.predict(train_x)))\n",
    "'''\n",
    " [[518  31]\n",
    " [ 87 255]]\n",
    "'''\n",
    "\n",
    "# Make Predictions    \n",
    "test_y_pred = gsclf.predict(test_x)\n",
    "\n",
    "# Persist Data to CSV file for submission\n",
    "fname = \"data/predictions/xgb_gscv_tuning.csv\"\n",
    "results2csv(test_x.index, test_y_pred, fname)"
   ]
  },
  {
   "cell_type": "code",
   "execution_count": null,
   "metadata": {},
   "outputs": [],
   "source": []
  }
 ],
 "metadata": {
  "kernelspec": {
   "display_name": "Python 3",
   "language": "python",
   "name": "python3"
  },
  "language_info": {
   "codemirror_mode": {
    "name": "ipython",
    "version": 3
   },
   "file_extension": ".py",
   "mimetype": "text/x-python",
   "name": "python",
   "nbconvert_exporter": "python",
   "pygments_lexer": "ipython3",
   "version": "3.6.6"
  }
 },
 "nbformat": 4,
 "nbformat_minor": 2
}
